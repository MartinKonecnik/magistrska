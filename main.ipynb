{
 "cells": [
  {
   "cell_type": "code",
   "id": "initial_id",
   "metadata": {
    "collapsed": true,
    "ExecuteTime": {
     "end_time": "2025-08-04T12:20:43.297507Z",
     "start_time": "2025-08-04T12:20:43.295003Z"
    }
   },
   "source": [
    "# Martin Konečnik, https://git.siwim.si/machine-learning/fix-qa-binary-classification\n",
    "# Notebook intended for prototyping binary classification script\n",
    "import tomllib\n",
    "from pathlib import Path\n",
    "\n",
    "import numpy as np\n",
    "import torch\n",
    "from sklearn.model_selection import train_test_split\n",
    "from swm import factory\n",
    "from torch.utils.data import DataLoader, TensorDataset\n"
   ],
   "outputs": [],
   "execution_count": 12
  },
  {
   "metadata": {
    "ExecuteTime": {
     "end_time": "2025-08-04T12:20:43.346979Z",
     "start_time": "2025-08-04T12:20:43.344562Z"
    }
   },
   "cell_type": "code",
   "source": [
    "# Read the configuration file.\n",
    "with open('conf.toml', 'rb') as f:\n",
    "    conf = tomllib.load(f)\n",
    "\n",
    "EVENTS_PATH = Path().home() / conf['data_dir'] / 'prepared'\n",
    "INDEX = conf['channel']"
   ],
   "id": "85edc9890cf02265",
   "outputs": [],
   "execution_count": 13
  },
  {
   "metadata": {
    "ExecuteTime": {
     "end_time": "2025-08-04T12:29:58.058440Z",
     "start_time": "2025-08-04T12:20:43.405841Z"
    }
   },
   "cell_type": "code",
   "source": [
    "# Build a list of training data.\n",
    "signals_unaltered = []\n",
    "signals_corrected = []\n",
    "binary_labels = []\n",
    "for event in (EVENTS_PATH / 'unaltered' / '0').iterdir():\n",
    "    data = factory.read_file(event)\n",
    "    signals_unaltered.append(data.acqdata.a[INDEX].data)\n",
    "\n",
    "for event in (EVENTS_PATH / 'corrected' / '0').iterdir():\n",
    "    data = factory.read_file(event)\n",
    "    signals_corrected.append(data.acqdata.a[INDEX].data)\n",
    "\n",
    "signals = signals_unaltered + signals_corrected\n",
    "binary_labels = np.array([0] * len(signals_unaltered) + [1] * len(signals_corrected))\n",
    "\n",
    "max_length = max(len(signal) for signal in signals)\n",
    "\n",
    "signals = np.array([np.pad(signal, (0, max_length - len(signal))) for signal in signals])\n",
    "binary_labels = np.array(binary_labels)\n",
    "\n",
    "print(f'Original signals shape: {signals.shape}')\n",
    "print(f'Binary labels shape: {binary_labels.shape}')"
   ],
   "id": "cf9bde92ead06eec",
   "outputs": [
    {
     "name": "stdout",
     "output_type": "stream",
     "text": [
      "Original signals shape: (61501, 0)\n",
      "Binary labels shape: (61501,)\n"
     ]
    }
   ],
   "execution_count": 14
  },
  {
   "metadata": {
    "ExecuteTime": {
     "end_time": "2025-08-04T12:29:58.123956Z",
     "start_time": "2025-08-04T12:29:58.107189Z"
    }
   },
   "cell_type": "code",
   "source": [
    "# Split into training and validation sets\n",
    "X_train, X_val, y_train, y_val = train_test_split(signals, binary_labels, test_size=0.2, stratify=binary_labels)  # Stratify makes sure the random split preserves ratio of classes."
   ],
   "id": "c378d115e9b5e4ee",
   "outputs": [],
   "execution_count": 15
  },
  {
   "metadata": {
    "ExecuteTime": {
     "end_time": "2025-08-04T12:29:58.167749Z",
     "start_time": "2025-08-04T12:29:58.165675Z"
    }
   },
   "cell_type": "code",
   "source": [
    "# # Convert to TF Dataset for better performance.\n",
    "# train_dataset = tf.data.Dataset.from_tensor_slices((X_train, y_train))\n",
    "# val_dataset = tf.data.Dataset.from_tensor_slices((X_val, y_val))\n",
    "#\n",
    "# # Prepare for training.\n",
    "# batch = 32\n",
    "# train_dataset = train_dataset.shuffle(buffer_size=len(X_train)).batch(batch).prefetch(tf.data.AUTOTUNE)\n",
    "# val_dataset = val_dataset.shuffle(buffer_size=len(X_train)).batch(batch).prefetch(tf.data.AUTOTUNE)\n",
    "#\n",
    "# # Sanity check.\n",
    "# sample_X, sample_y = next(iter(train_dataset))\n",
    "# print(f'Final training batch - X shape: {sample_X.shape}, y shape: {sample_y.shape}')\n",
    "# print(f'X dtype: {sample_X.dtype}, y dtype: {sample_y.dtype}')  # Should be float32 and int."
   ],
   "id": "14a8053f9ea0cf73",
   "outputs": [],
   "execution_count": 16
  },
  {
   "metadata": {
    "ExecuteTime": {
     "end_time": "2025-08-04T12:55:49.428485Z",
     "start_time": "2025-08-04T12:55:49.384352Z"
    }
   },
   "cell_type": "code",
   "source": [
    "# Convert numpy arrays to PyTorch tensors\n",
    "X_train_tensor = torch.from_numpy(X_train).float()  # float32 for features\n",
    "y_train_tensor = torch.from_numpy(y_train).long()  # int64 for labels\n",
    "X_val_tensor = torch.from_numpy(X_val).float()\n",
    "y_val_tensor = torch.from_numpy(y_val).long()\n",
    "\n",
    "# Create TensorDatasets\n",
    "train_dataset = TensorDataset(X_train_tensor, y_train_tensor)\n",
    "val_dataset = TensorDataset(X_val_tensor, y_val_tensor)\n",
    "\n",
    "# Prepare DataLoaders\n",
    "batch_size = 32\n",
    "train_loader = DataLoader(\n",
    "    train_dataset,\n",
    "    batch_size=batch_size,\n",
    "    shuffle=True,\n",
    "    num_workers=2,\n",
    "    pin_memory=True\n",
    ")\n",
    "val_loader = DataLoader(\n",
    "    val_dataset,\n",
    "    batch_size=batch_size,\n",
    "    shuffle=False,\n",
    "    num_workers=2,\n",
    "    pin_memory=True\n",
    ")\n",
    "\n",
    "# Sanity check\n",
    "sample_X, sample_y = next(iter(train_loader))\n",
    "print(f'Final training batch - X shape: {sample_X.shape}, y shape: {sample_y.shape}')\n",
    "print(f'X dtype: {sample_X.dtype}, y dtype: {sample_y.dtype}')  # Should be float32 and int."
   ],
   "id": "5f58f53834153f41",
   "outputs": [
    {
     "name": "stdout",
     "output_type": "stream",
     "text": [
      "Final training batch - X shape: torch.Size([32, 0]), y shape: torch.Size([32])\n",
      "X dtype: torch.float32, y dtype: torch.int64\n"
     ]
    }
   ],
   "execution_count": 18
  },
  {
   "metadata": {
    "ExecuteTime": {
     "end_time": "2025-08-04T12:29:58.391580Z",
     "start_time": "2025-08-04T12:29:58.390129Z"
    }
   },
   "cell_type": "code",
   "source": "",
   "id": "cbdecd8d1ec5fe45",
   "outputs": [],
   "execution_count": null
  }
 ],
 "metadata": {
  "kernelspec": {
   "display_name": "Python 3",
   "language": "python",
   "name": "python3"
  },
  "language_info": {
   "codemirror_mode": {
    "name": "ipython",
    "version": 2
   },
   "file_extension": ".py",
   "mimetype": "text/x-python",
   "name": "python",
   "nbconvert_exporter": "python",
   "pygments_lexer": "ipython2",
   "version": "2.7.6"
  }
 },
 "nbformat": 4,
 "nbformat_minor": 5
}
