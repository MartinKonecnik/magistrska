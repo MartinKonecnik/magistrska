{
 "cells": [
  {
   "cell_type": "code",
   "id": "75399cb091add1fe",
   "metadata": {
    "ExecuteTime": {
     "end_time": "2025-08-04T12:01:57.444985Z",
     "start_time": "2025-08-04T12:01:57.443284Z"
    }
   },
   "source": [
    "# Martin Konečnik, https://git.siwim.si/machine-learning/fix-qa-binary-classification\n",
    "# Notebook intended for getting data ready for the main script to process.\n",
    "import tomllib\n",
    "from pathlib import Path\n",
    "from shutil import copy\n",
    "from typing import Dict\n",
    "\n",
    "from swm import factory"
   ],
   "outputs": [],
   "execution_count": 5
  },
  {
   "metadata": {
    "ExecuteTime": {
     "end_time": "2025-08-04T12:01:57.500060Z",
     "start_time": "2025-08-04T12:01:57.491338Z"
    }
   },
   "cell_type": "code",
   "source": [
    "# Read the configuration file.\n",
    "with open('conf.toml', 'rb') as f:\n",
    "    conf = tomllib.load(f)\n",
    "\n",
    "EVENTS_PATH = Path(conf['event_dir'])\n",
    "INDEX = conf['channel']"
   ],
   "id": "745f10db7e8e891",
   "outputs": [],
   "execution_count": 6
  },
  {
   "metadata": {
    "ExecuteTime": {
     "end_time": "2025-08-04T12:12:20.794708Z",
     "start_time": "2025-08-04T12:01:57.537243Z"
    }
   },
   "cell_type": "code",
   "source": [
    "# Get dicts of original and altered events with their size.\n",
    "is_changed: Dict[str, bool] = {}\n",
    "total = 0\n",
    "multiple = 0\n",
    "data_dir = Path().home() / EVENTS_PATH / 'raw'\n",
    "data_dir.mkdir(exist_ok=True)\n",
    "unaltered = {}\n",
    "corrected = {}\n",
    "\n",
    "for file in data_dir.glob('**/*.event'):\n",
    "    vehicles = factory.read_file(file).detected_vehicles\n",
    "    if len(vehicles) == 1:\n",
    "        lane = vehicles[0].lane\n",
    "        if vehicles[0].lane not in unaltered:  # Add a new lane.\n",
    "            unaltered[lane] = []\n",
    "            corrected[lane] = []\n",
    "        if vehicles[0].flags & 0x00080000 != 0:  # Find events with the changed flag set.\n",
    "            corrected[lane].append(file)\n",
    "        else:\n",
    "            unaltered[lane].append(file)\n",
    "    else:\n",
    "        multiple += 1\n",
    "\n",
    "for lane in unaltered:\n",
    "    print(f'Unaltered lane {lane}: {len(unaltered[lane])}')\n",
    "for lane in corrected:\n",
    "    print(f'Corrected lane {lane}: {len(corrected[lane])}')\n",
    "print(f'Multiple: {multiple}')"
   ],
   "id": "9230129972adef86",
   "outputs": [
    {
     "name": "stdout",
     "output_type": "stream",
     "text": [
      "Unaltered lane 0: 60309\n",
      "Unaltered lane 1: 39\n",
      "Corrected lane 0: 1192\n",
      "Corrected lane 1: 8\n",
      "Multiple: 4464\n"
     ]
    }
   ],
   "execution_count": 7
  },
  {
   "metadata": {
    "ExecuteTime": {
     "end_time": "2025-08-04T12:13:47.535915Z",
     "start_time": "2025-08-04T12:12:20.845798Z"
    }
   },
   "cell_type": "code",
   "source": [
    "# Copy data to folders split based on classification\n",
    "data_dir = Path.home() / EVENTS_PATH / 'prepared'\n",
    "unaltered_dir = data_dir / 'unaltered'\n",
    "corrected_dir = data_dir / 'corrected'\n",
    "\n",
    "# Copy the data over\n",
    "for lane in unaltered:\n",
    "    folder = unaltered_dir / str(lane)\n",
    "    folder.mkdir(parents=True)\n",
    "    for file in unaltered[lane]:\n",
    "        copy(file, folder)\n",
    "\n",
    "for lane in corrected:\n",
    "    folder = corrected_dir / str(lane)\n",
    "    folder.mkdir(parents=True)\n",
    "    for file in corrected[lane]:\n",
    "        copy(file, folder)"
   ],
   "id": "initial_id",
   "outputs": [],
   "execution_count": 8
  }
 ],
 "metadata": {
  "kernelspec": {
   "display_name": "Python 3",
   "language": "python",
   "name": "python3"
  },
  "language_info": {
   "codemirror_mode": {
    "name": "ipython",
    "version": 2
   },
   "file_extension": ".py",
   "mimetype": "text/x-python",
   "name": "python",
   "nbconvert_exporter": "python",
   "pygments_lexer": "ipython2",
   "version": "2.7.6"
  }
 },
 "nbformat": 4,
 "nbformat_minor": 5
}
